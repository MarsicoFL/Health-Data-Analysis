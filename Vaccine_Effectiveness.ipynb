{
 "cells": [
  {
   "cell_type": "markdown",
   "metadata": {},
   "source": [
    "**Cálculo del intervalo de confianza para la eficienia (con base log)**\n",
    "**Fran 14-05**"
   ]
  },
  {
   "cell_type": "code",
   "execution_count": 3,
   "metadata": {},
   "outputs": [
    {
     "name": "stdout",
     "output_type": "stream",
     "text": [
      "Requirement already satisfied: numpy in /home/franco/snap/jupyter/common/lib/python3.7/site-packages (1.20.3)\n",
      "Requirement already satisfied: scipy in /home/franco/snap/jupyter/common/lib/python3.7/site-packages (1.6.3)\n",
      "Requirement already satisfied: numpy<1.23.0,>=1.16.5 in /home/franco/snap/jupyter/common/lib/python3.7/site-packages (from scipy) (1.20.3)\n",
      "Collecting matplotlib\n",
      "\u001b[?25l  Downloading https://files.pythonhosted.org/packages/24/33/5568d443ba438d95d4db635dd69958056f087e57e1026bee56f959d53f9d/matplotlib-3.4.2-cp37-cp37m-manylinux1_x86_64.whl (10.3MB)\n",
      "\u001b[K     |████████████████████████████████| 10.3MB 6.1MB/s eta 0:00:01\n",
      "\u001b[?25hCollecting cycler>=0.10 (from matplotlib)\n",
      "  Downloading https://files.pythonhosted.org/packages/f7/d2/e07d3ebb2bd7af696440ce7e754c59dd546ffe1bbe732c8ab68b9c834e61/cycler-0.10.0-py2.py3-none-any.whl\n",
      "Collecting kiwisolver>=1.0.1 (from matplotlib)\n",
      "\u001b[?25l  Downloading https://files.pythonhosted.org/packages/d2/46/231de802ade4225b76b96cffe419cf3ce52bbe92e3b092cf12db7d11c207/kiwisolver-1.3.1-cp37-cp37m-manylinux1_x86_64.whl (1.1MB)\n",
      "\u001b[K     |████████████████████████████████| 1.1MB 9.4MB/s eta 0:00:01\n",
      "\u001b[?25hCollecting pyparsing>=2.2.1 (from matplotlib)\n",
      "\u001b[?25l  Downloading https://files.pythonhosted.org/packages/8a/bb/488841f56197b13700afd5658fc279a2025a39e22449b7cf29864669b15d/pyparsing-2.4.7-py2.py3-none-any.whl (67kB)\n",
      "\u001b[K     |████████████████████████████████| 71kB 14.6MB/s eta 0:00:01\n",
      "\u001b[?25hRequirement already satisfied: python-dateutil>=2.7 in /snap/jupyter/6/lib/python3.7/site-packages (from matplotlib) (2.8.0)\n",
      "Collecting pillow>=6.2.0 (from matplotlib)\n",
      "\u001b[?25l  Downloading https://files.pythonhosted.org/packages/33/34/542152297dcc6c47a9dcb0685eac6d652d878ed3cea83bf2b23cb988e857/Pillow-8.2.0-cp37-cp37m-manylinux1_x86_64.whl (3.0MB)\n",
      "\u001b[K     |████████████████████████████████| 3.0MB 17.0MB/s eta 0:00:01\n",
      "\u001b[?25hRequirement already satisfied: numpy>=1.16 in /home/franco/snap/jupyter/common/lib/python3.7/site-packages (from matplotlib) (1.20.3)\n",
      "Requirement already satisfied: six in /snap/jupyter/6/lib/python3.7/site-packages (from cycler>=0.10->matplotlib) (1.12.0)\n",
      "Installing collected packages: cycler, kiwisolver, pyparsing, pillow, matplotlib\n",
      "Successfully installed cycler-0.10.0 kiwisolver-1.3.1 matplotlib-3.4.2 pillow-8.2.0 pyparsing-2.4.7\n"
     ]
    }
   ],
   "source": [
    "import sys\n",
    "!{sys.executable} -m pip install numpy\n",
    "!{sys.executable} -m pip install scipy\n",
    "!{sys.executable} -m pip install matplotlib\n",
    "\n",
    "import numpy as np\n",
    "from scipy.stats import norm\n",
    "import matplotlib.pyplot as plt"
   ]
  },
  {
   "cell_type": "code",
   "execution_count": 108,
   "metadata": {},
   "outputs": [],
   "source": [
    "# X1 number of vaccinated infected.\n",
    "# N1 number of vaccinated not infected (in case of computing OR) or number of vaccinated (when computing RR)\n",
    "# X2 number of not vaccinated infected\n",
    "# N2 number of not vaccinated not infected (in case of computing OR) or number of not vaccinated (when computing RR)\n",
    "\n",
    "def theta_vals(dt):\n",
    "    # https://stats.stackexchange.com/questions/21298/confidence-interval-around-the-ratio-of-two-proportions\n",
    "    x1, n1, x2, n2 = dt\n",
    "    # relative risk\n",
    "    theta = (x1 / n1) / (x2 / n2)\n",
    "    # variance of the logarithm of relative risk\n",
    "    var_log_theta = 1 / x1 - 1 / n1 + 1 / x2 - 1 / n2\n",
    "    # standard error of the logarithm of relative risk\n",
    "    SE_log_theta = np.sqrt(var_log_theta)\n",
    "    return (theta, SE_log_theta)\n",
    "\n",
    "\n",
    "def plot_points(dt):\n",
    "    theta, SE_log_theta = dt\n",
    "    x = np.linspace(-10, 0, num = 1000)\n",
    "    y = norm.pdf(x, loc = np.log(theta), scale = SE_log_theta)\n",
    "    return (1 - np.exp(x), y)\n",
    "\n",
    "\n",
    "def conf_int(dt):\n",
    "    theta, SE_log_theta = dt\n",
    "    ex = 1.95996 * SE_log_theta\n",
    "    lower = int(10000 * (1 - theta * np.exp(+ex))) / 100\n",
    "    upper = int(10000 * (1 - theta * np.exp(-ex))) / 100\n",
    "    return (lower, upper)\n",
    "\n",
    "\n",
    "def ratios(dt):\n",
    "    x1, n1, x2, n2 = dt\n",
    "    return (x1 / n1, x2 / n2)\n",
    "\n",
    "def significance(dt):\n",
    "    "
   ]
  },
  {
   "cell_type": "code",
   "execution_count": 109,
   "metadata": {},
   "outputs": [],
   "source": [
    "# Ejemplo, Efectividad \n",
    "Sputnik = (18, 40387, 372, 146194)\n",
    "Sputnik_theta = theta_vals(Sputnik)"
   ]
  },
  {
   "cell_type": "markdown",
   "metadata": {},
   "source": [
    "**Efficacy:**"
   ]
  },
  {
   "cell_type": "code",
   "execution_count": 110,
   "metadata": {},
   "outputs": [
    {
     "data": {
      "text/plain": [
       "82.48470243938284"
      ]
     },
     "execution_count": 110,
     "metadata": {},
     "output_type": "execute_result"
    }
   ],
   "source": [
    "100 * (1 - Sputnik_theta[0])"
   ]
  },
  {
   "cell_type": "markdown",
   "metadata": {},
   "source": [
    "**Confidence interval:**"
   ]
  },
  {
   "cell_type": "code",
   "execution_count": 118,
   "metadata": {},
   "outputs": [
    {
     "data": {
      "text/plain": [
       "(71.89, 89.08)"
      ]
     },
     "execution_count": 118,
     "metadata": {},
     "output_type": "execute_result"
    }
   ],
   "source": [
    "conf_int(Sputnik_theta)"
   ]
  },
  {
   "cell_type": "markdown",
   "metadata": {},
   "source": [
    "**Difference test between two OR, RR or RRR:**"
   ]
  },
  {
   "cell_type": "code",
   "execution_count": null,
   "metadata": {},
   "outputs": [],
   "source": [
    "# We take the difference of the log odds (OD1 and OD2), δ. \n",
    "# The standard error of δ is sqrt((SE1)**2+(SE2)**2)\n",
    "# Then p-value is obtained for the ratio z=δ/SE(δ) from the standard normal."
   ]
  },
  {
   "cell_type": "code",
   "execution_count": 119,
   "metadata": {},
   "outputs": [
    {
     "ename": "SyntaxError",
     "evalue": "invalid syntax (<ipython-input-119-2fb635d6bf32>, line 1)",
     "output_type": "error",
     "traceback": [
      "\u001b[0;36m  File \u001b[0;32m\"<ipython-input-119-2fb635d6bf32>\"\u001b[0;36m, line \u001b[0;32m1\u001b[0m\n\u001b[0;31m    OD1 =\u001b[0m\n\u001b[0m          ^\u001b[0m\n\u001b[0;31mSyntaxError\u001b[0m\u001b[0;31m:\u001b[0m invalid syntax\n"
     ]
    }
   ],
   "source": [
    "def significance(dt):\n",
    "    OD1, SE1, OD2, SE2 = dt\n",
    "    δ = log(OD2) - log(OD1)\n",
    "    SE = sqrt((SE1)**2+(SE2)**2)\n",
    "    return (x1 / n1, x2 / n2)"
   ]
  },
  {
   "cell_type": "code",
   "execution_count": null,
   "metadata": {},
   "outputs": [],
   "source": []
  }
 ],
 "metadata": {
  "kernelspec": {
   "display_name": "Python 3",
   "language": "python",
   "name": "python3"
  },
  "language_info": {
   "codemirror_mode": {
    "name": "ipython",
    "version": 3
   },
   "file_extension": ".py",
   "mimetype": "text/x-python",
   "name": "python",
   "nbconvert_exporter": "python",
   "pygments_lexer": "ipython3",
   "version": "3.7.3"
  }
 },
 "nbformat": 4,
 "nbformat_minor": 4
}
